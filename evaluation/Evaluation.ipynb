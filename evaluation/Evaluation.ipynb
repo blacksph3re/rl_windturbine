{
 "cells": [
  {
   "cell_type": "code",
   "execution_count": 3,
   "metadata": {},
   "outputs": [],
   "source": [
    "import matplotlib.pyplot as plt\n",
    "import json\n",
    "import numpy as np\n",
    "import pandas as pd\n",
    "import seaborn as sns\n",
    "import math"
   ]
  },
  {
   "cell_type": "code",
   "execution_count": 42,
   "metadata": {},
   "outputs": [],
   "source": [
    "runs = ['id81', 'id82', 'id83', 'id84']\n",
    "runs = ['.']\n",
    "tags = ['act_collective_pitch__deg_', 'act_generator_torque__Nm_', 'obs_rotational_speed__rad_s_', 'obs_power__kW_']\n",
    "labels = {\n",
    "#     tags[0]: ['epoch', 'reward'],\n",
    "#    tags[1]: ['epoch', 'deaths'],\n",
    "    tags[0]: ['step', 'pitch angle [deg]'],\n",
    "    tags[1]: ['step', 'generator torque [Nm]'],\n",
    "    tags[2]: ['step', 'rotational speed [rad/s]'],\n",
    "    tags[3]: ['step', 'power']\n",
    "}"
   ]
  },
  {
   "cell_type": "code",
   "execution_count": 43,
   "metadata": {},
   "outputs": [],
   "source": [
    "# Load data\n",
    "global_data = {}\n",
    "for run in runs:\n",
    "    global_data[run] = {}\n",
    "    for tag in tags:\n",
    "        filename = 'data/run-%s-tag-%s.json' % (run, tag)\n",
    "        try:\n",
    "            with open(filename, 'r') as f:\n",
    "                global_data[run][tag] = json.loads(f.read())\n",
    "        except:\n",
    "            pass"
   ]
  },
  {
   "cell_type": "code",
   "execution_count": 24,
   "metadata": {},
   "outputs": [],
   "source": [
    "# Define some helper functions\n",
    "def get_step(run, tag):\n",
    "    return [step for [time,step,value] in global_data[run][tag]]\n",
    "def get_time(run, tag):\n",
    "    return [time for [time,step,value] in global_data[run][tag]]\n",
    "def get_value(run, tag):\n",
    "    return [value for [time,step,value] in global_data[run][tag]]\n",
    "\n",
    "def get_dict(run, tag):\n",
    "    return dict([(step, value) for [time,step,value] in global_data[run][tag]])\n"
   ]
  },
  {
   "cell_type": "code",
   "execution_count": 44,
   "metadata": {},
   "outputs": [],
   "source": [
    "# eval by tags\n",
    "by_tags = {}\n",
    "for tag in tags:\n",
    "    by_tags[tag] = pd.DataFrame([get_dict(run, tag) for run in runs if run in global_data and tag in global_data[run]], runs).transpose()"
   ]
  },
  {
   "cell_type": "code",
   "execution_count": 41,
   "metadata": {},
   "outputs": [],
   "source": [
    "# Plot the full timeline across all runs\n",
    "def plot_all(tag):\n",
    "    mean = by_tags[tag].mean(axis=1) \n",
    "    stddev = by_tags[tag].std(axis=1) * (1.68/math.sqrt(4))\n",
    "    plt.plot(mean)\n",
    "    plt.xlabel(labels[tag][0])\n",
    "    plt.ylabel(labels[tag][1])\n",
    "    plt.fill_between(mean.keys(), mean.values-stddev.values, mean.values+stddev.values, alpha=0.2)\n",
    "    \n",
    "for tag in tags:\n",
    "    plot_all(tag)\n",
    "    plt.savefig('plot%s.png' % tag, dpi=300)\n",
    "    plt.close()"
   ]
  },
  {
   "cell_type": "code",
   "execution_count": 186,
   "metadata": {},
   "outputs": [
    {
     "data": {
      "text/html": [
       "<div>\n",
       "<style scoped>\n",
       "    .dataframe tbody tr th:only-of-type {\n",
       "        vertical-align: middle;\n",
       "    }\n",
       "\n",
       "    .dataframe tbody tr th {\n",
       "        vertical-align: top;\n",
       "    }\n",
       "\n",
       "    .dataframe thead th {\n",
       "        text-align: right;\n",
       "    }\n",
       "</style>\n",
       "<table border=\"1\" class=\"dataframe\">\n",
       "  <thead>\n",
       "    <tr style=\"text-align: right;\">\n",
       "      <th></th>\n",
       "      <th>.</th>\n",
       "    </tr>\n",
       "  </thead>\n",
       "  <tbody>\n",
       "    <tr>\n",
       "      <th>0</th>\n",
       "      <td>192970.25</td>\n",
       "    </tr>\n",
       "    <tr>\n",
       "      <th>1</th>\n",
       "      <td>338470.25</td>\n",
       "    </tr>\n",
       "    <tr>\n",
       "      <th>2</th>\n",
       "      <td>483970.25</td>\n",
       "    </tr>\n",
       "    <tr>\n",
       "      <th>3</th>\n",
       "      <td>629470.25</td>\n",
       "    </tr>\n",
       "    <tr>\n",
       "      <th>4</th>\n",
       "      <td>774970.25</td>\n",
       "    </tr>\n",
       "    <tr>\n",
       "      <th>...</th>\n",
       "      <td>...</td>\n",
       "    </tr>\n",
       "    <tr>\n",
       "      <th>178337</th>\n",
       "      <td>0.00</td>\n",
       "    </tr>\n",
       "    <tr>\n",
       "      <th>178338</th>\n",
       "      <td>0.00</td>\n",
       "    </tr>\n",
       "    <tr>\n",
       "      <th>178339</th>\n",
       "      <td>0.00</td>\n",
       "    </tr>\n",
       "    <tr>\n",
       "      <th>178340</th>\n",
       "      <td>0.00</td>\n",
       "    </tr>\n",
       "    <tr>\n",
       "      <th>178341</th>\n",
       "      <td>0.00</td>\n",
       "    </tr>\n",
       "  </tbody>\n",
       "</table>\n",
       "<p>178342 rows × 1 columns</p>\n",
       "</div>"
      ],
      "text/plain": [
       "                .\n",
       "0       192970.25\n",
       "1       338470.25\n",
       "2       483970.25\n",
       "3       629470.25\n",
       "4       774970.25\n",
       "...           ...\n",
       "178337       0.00\n",
       "178338       0.00\n",
       "178339       0.00\n",
       "178340       0.00\n",
       "178341       0.00\n",
       "\n",
       "[178342 rows x 1 columns]"
      ]
     },
     "execution_count": 186,
     "metadata": {},
     "output_type": "execute_result"
    }
   ],
   "source": [
    "by_tags[tags[2]]"
   ]
  },
  {
   "cell_type": "code",
   "execution_count": 190,
   "metadata": {},
   "outputs": [],
   "source": [
    "# find mean and max\n",
    "data = by_tags[tags[0]]\n"
   ]
  },
  {
   "cell_type": "code",
   "execution_count": 52,
   "metadata": {},
   "outputs": [
    {
     "data": {
      "image/png": "[encoded data removed]",
      "text/plain": [
       "<Figure size 432x288 with 1 Axes>"
      ]
     },
     "metadata": {
      "needs_background": "light"
     },
     "output_type": "display_data"
    }
   ],
   "source": [
    "# plot a single epoch\n",
    "epoch = 25\n",
    "run = '.'\n",
    "pitch = tags[0]\n",
    "torque = tags[1]\n",
    "rpm = tags[2]\n",
    "power = tags[3]\n",
    "start = epoch*2000 + 1\n",
    "end = (epoch+1)*2000 + 1\n",
    "\n",
    "data = pd.DataFrame({\n",
    "    \"torque [MNm]\": by_tags[torque][run][start:end]/1000000,\n",
    "    \"pitch [10 deg]\": by_tags[pitch][run][start:end]/10,\n",
    "    \"rpm [rad/s]\": by_tags[rpm][run][start:end],\n",
    "    \"power [MW]\": by_tags[power][run][start:end]/1000,\n",
    "})\n",
    "\n",
    "data.plot()\n",
    "plt.xlabel(\"step\")\n",
    "plt.savefig('crashing turbines.png', dpi=300)"
   ]
  },
  {
   "cell_type": "code",
   "execution_count": 220,
   "metadata": {},
   "outputs": [
    {
     "data": {
      "text/plain": [
       "[<matplotlib.lines.Line2D at 0x7f70dfe4c640>]"
      ]
     },
     "execution_count": 220,
     "metadata": {},
     "output_type": "execute_result"
    },
    {
     "data": {
      "image/png": "[encoded data removed]",
      "text/plain": [
       "<Figure size 432x288 with 1 Axes>"
      ]
     },
     "metadata": {
      "needs_background": "light"
     },
     "output_type": "display_data"
    }
   ],
   "source": [
    "plt.plot([(0.99**x) for x in range(0, 500)])"
   ]
  },
  {
   "cell_type": "code",
   "execution_count": 20,
   "metadata": {},
   "outputs": [
    {
     "data": {
      "image/png": "[encoded data removed]",
      "text/plain": [
       "<Figure size 432x288 with 1 Axes>"
      ]
     },
     "metadata": {
      "needs_background": "light"
     },
     "output_type": "display_data"
    }
   ],
   "source": [
    "from sklearn.linear_model import LinearRegression\n",
    "from sklearn.preprocessing import PolynomialFeatures\n",
    "\n",
    "\n",
    "\n",
    "x = np.array([0,1,2,3,4,5])\n",
    "x_plot = np.array([i/100 for i in range(0, 500)])\n",
    "y = np.array([1,1,1,1,1,-5])\n",
    "\n",
    "plt.scatter(x, y)\n",
    "\n",
    "x = x[:, np.newaxis]\n",
    "x_plot = x_plot[:, np.newaxis]\n",
    "y = y[:, np.newaxis]\n",
    "\n",
    "\n",
    "model = LinearRegression()\n",
    "model.fit(x, y)\n",
    "y_pred = model.predict(x_plot)\n",
    "\n",
    "plt.plot(x_plot, y_pred)\n",
    "\n",
    "\n",
    "polynomial_features= PolynomialFeatures(degree=4)\n",
    "x_poly = polynomial_features.fit_transform(x)\n",
    "x_poly_plot = polynomial_features.fit_transform(x_plot)\n",
    "\n",
    "model = LinearRegression()\n",
    "model.fit(x_poly, y)\n",
    "\n",
    "y_poly_pred = np.clip(model.predict(x_poly_plot), -10, 5)\n",
    "\n",
    "plt.plot(x_plot, y_poly_pred)\n",
    "\n",
    "plt.savefig('overfit.png', dpi=300)\n"
   ]
  },
  {
   "cell_type": "code",
   "execution_count": 36,
   "metadata": {},
   "outputs": [
    {
     "data": {
      "text/html": [
       "<div>\n",
       "<style scoped>\n",
       "    .dataframe tbody tr th:only-of-type {\n",
       "        vertical-align: middle;\n",
       "    }\n",
       "\n",
       "    .dataframe tbody tr th {\n",
       "        vertical-align: top;\n",
       "    }\n",
       "\n",
       "    .dataframe thead th {\n",
       "        text-align: right;\n",
       "    }\n",
       "</style>\n",
       "<table border=\"1\" class=\"dataframe\">\n",
       "  <thead>\n",
       "    <tr style=\"text-align: right;\">\n",
       "      <th></th>\n",
       "      <th>norm+3</th>\n",
       "      <th>norm-3</th>\n",
       "    </tr>\n",
       "  </thead>\n",
       "  <tbody>\n",
       "    <tr>\n",
       "      <th>1</th>\n",
       "      <td>13.0</td>\n",
       "      <td>13.0</td>\n",
       "    </tr>\n",
       "    <tr>\n",
       "      <th>2</th>\n",
       "      <td>3.0</td>\n",
       "      <td>10.0</td>\n",
       "    </tr>\n",
       "    <tr>\n",
       "      <th>3</th>\n",
       "      <td>5.0</td>\n",
       "      <td>10.0</td>\n",
       "    </tr>\n",
       "    <tr>\n",
       "      <th>4</th>\n",
       "      <td>3.0</td>\n",
       "      <td>6.0</td>\n",
       "    </tr>\n",
       "    <tr>\n",
       "      <th>5</th>\n",
       "      <td>9.0</td>\n",
       "      <td>4.0</td>\n",
       "    </tr>\n",
       "    <tr>\n",
       "      <th>6</th>\n",
       "      <td>11.0</td>\n",
       "      <td>0.0</td>\n",
       "    </tr>\n",
       "    <tr>\n",
       "      <th>7</th>\n",
       "      <td>18.0</td>\n",
       "      <td>0.0</td>\n",
       "    </tr>\n",
       "    <tr>\n",
       "      <th>8</th>\n",
       "      <td>14.0</td>\n",
       "      <td>0.0</td>\n",
       "    </tr>\n",
       "    <tr>\n",
       "      <th>9</th>\n",
       "      <td>8.0</td>\n",
       "      <td>0.0</td>\n",
       "    </tr>\n",
       "    <tr>\n",
       "      <th>10</th>\n",
       "      <td>17.0</td>\n",
       "      <td>0.0</td>\n",
       "    </tr>\n",
       "    <tr>\n",
       "      <th>11</th>\n",
       "      <td>15.0</td>\n",
       "      <td>0.0</td>\n",
       "    </tr>\n",
       "    <tr>\n",
       "      <th>12</th>\n",
       "      <td>16.0</td>\n",
       "      <td>0.0</td>\n",
       "    </tr>\n",
       "    <tr>\n",
       "      <th>13</th>\n",
       "      <td>10.0</td>\n",
       "      <td>0.0</td>\n",
       "    </tr>\n",
       "    <tr>\n",
       "      <th>14</th>\n",
       "      <td>10.0</td>\n",
       "      <td>0.0</td>\n",
       "    </tr>\n",
       "    <tr>\n",
       "      <th>15</th>\n",
       "      <td>10.0</td>\n",
       "      <td>0.0</td>\n",
       "    </tr>\n",
       "    <tr>\n",
       "      <th>16</th>\n",
       "      <td>6.0</td>\n",
       "      <td>0.0</td>\n",
       "    </tr>\n",
       "    <tr>\n",
       "      <th>17</th>\n",
       "      <td>15.0</td>\n",
       "      <td>0.0</td>\n",
       "    </tr>\n",
       "    <tr>\n",
       "      <th>18</th>\n",
       "      <td>10.0</td>\n",
       "      <td>0.0</td>\n",
       "    </tr>\n",
       "    <tr>\n",
       "      <th>19</th>\n",
       "      <td>11.0</td>\n",
       "      <td>0.0</td>\n",
       "    </tr>\n",
       "    <tr>\n",
       "      <th>20</th>\n",
       "      <td>16.0</td>\n",
       "      <td>0.0</td>\n",
       "    </tr>\n",
       "    <tr>\n",
       "      <th>21</th>\n",
       "      <td>15.0</td>\n",
       "      <td>11.0</td>\n",
       "    </tr>\n",
       "    <tr>\n",
       "      <th>22</th>\n",
       "      <td>17.0</td>\n",
       "      <td>5.0</td>\n",
       "    </tr>\n",
       "    <tr>\n",
       "      <th>23</th>\n",
       "      <td>15.0</td>\n",
       "      <td>8.0</td>\n",
       "    </tr>\n",
       "    <tr>\n",
       "      <th>24</th>\n",
       "      <td>17.0</td>\n",
       "      <td>26.0</td>\n",
       "    </tr>\n",
       "    <tr>\n",
       "      <th>25</th>\n",
       "      <td>17.0</td>\n",
       "      <td>17.0</td>\n",
       "    </tr>\n",
       "    <tr>\n",
       "      <th>26</th>\n",
       "      <td>17.0</td>\n",
       "      <td>17.0</td>\n",
       "    </tr>\n",
       "    <tr>\n",
       "      <th>27</th>\n",
       "      <td>18.0</td>\n",
       "      <td>22.0</td>\n",
       "    </tr>\n",
       "    <tr>\n",
       "      <th>28</th>\n",
       "      <td>20.0</td>\n",
       "      <td>19.0</td>\n",
       "    </tr>\n",
       "    <tr>\n",
       "      <th>29</th>\n",
       "      <td>24.0</td>\n",
       "      <td>7.0</td>\n",
       "    </tr>\n",
       "    <tr>\n",
       "      <th>30</th>\n",
       "      <td>24.0</td>\n",
       "      <td>0.0</td>\n",
       "    </tr>\n",
       "  </tbody>\n",
       "</table>\n",
       "</div>"
      ],
      "text/plain": [
       "    norm+3  norm-3\n",
       "1     13.0    13.0\n",
       "2      3.0    10.0\n",
       "3      5.0    10.0\n",
       "4      3.0     6.0\n",
       "5      9.0     4.0\n",
       "6     11.0     0.0\n",
       "7     18.0     0.0\n",
       "8     14.0     0.0\n",
       "9      8.0     0.0\n",
       "10    17.0     0.0\n",
       "11    15.0     0.0\n",
       "12    16.0     0.0\n",
       "13    10.0     0.0\n",
       "14    10.0     0.0\n",
       "15    10.0     0.0\n",
       "16     6.0     0.0\n",
       "17    15.0     0.0\n",
       "18    10.0     0.0\n",
       "19    11.0     0.0\n",
       "20    16.0     0.0\n",
       "21    15.0    11.0\n",
       "22    17.0     5.0\n",
       "23    15.0     8.0\n",
       "24    17.0    26.0\n",
       "25    17.0    17.0\n",
       "26    17.0    17.0\n",
       "27    18.0    22.0\n",
       "28    20.0    19.0\n",
       "29    24.0     7.0\n",
       "30    24.0     0.0"
      ]
     },
     "execution_count": 36,
     "metadata": {},
     "output_type": "execute_result"
    },
    {
     "data": {
      "image/png": "[encoded data removed]",
      "text/plain": [
       "<Figure size 432x288 with 1 Axes>"
      ]
     },
     "metadata": {
      "needs_background": "light"
     },
     "output_type": "display_data"
    }
   ],
   "source": [
    "def plot_runs(tag):\n",
    "    data = {}\n",
    "    for run in runs:\n",
    "        data[run] = by_tags[tag][run][0:30]\n",
    "    data = pd.DataFrame(data)\n",
    "    \n",
    "    data.plot()\n",
    "    plt.xlabel(labels[tag][0])\n",
    "    plt.ylabel(labels[tag][1])\n",
    "    plt.savefig('deaths.png', dpi=300)\n",
    "    return data\n",
    "\n",
    "plot_runs(tags[1])"
   ]
  },
  {
   "cell_type": "code",
   "execution_count": null,
   "metadata": {},
   "outputs": [],
   "source": []
  }
 ],
 "metadata": {
  "kernelspec": {
   "display_name": "Python 3",
   "language": "python",
   "name": "python3"
  },
  "language_info": {
   "codemirror_mode": {
    "name": "ipython",
    "version": 3
   },
   "file_extension": ".py",
   "mimetype": "text/x-python",
   "name": "python",
   "nbconvert_exporter": "python",
   "pygments_lexer": "ipython3",
   "version": "3.8.0"
  }
 },
 "nbformat": 4,
 "nbformat_minor": 2
}
