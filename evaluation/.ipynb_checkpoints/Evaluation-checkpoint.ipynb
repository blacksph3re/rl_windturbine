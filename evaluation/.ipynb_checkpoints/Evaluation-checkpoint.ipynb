{
 "cells": [
  {
   "cell_type": "code",
   "execution_count": 1,
   "metadata": {},
   "outputs": [],
   "source": [
    "import json\n",
    "import numpy as np\n",
    "import pandas as pd\n",
    "import seaborn as sns"
   ]
  },
  {
   "cell_type": "code",
   "execution_count": 2,
   "metadata": {},
   "outputs": [],
   "source": [
    "runs = ['id52', 'id53', 'id54', 'id55']\n",
    "tags = ['Epoch_reward']"
   ]
  },
  {
   "cell_type": "code",
   "execution_count": 3,
   "metadata": {},
   "outputs": [],
   "source": [
    "data = {}\n",
    "for run in runs:\n",
    "    data[run] = {}\n",
    "    for tag in tags:\n",
    "        filename = 'run-%s-tag-%s.json' % (run, tag)\n",
    "        with open(filename, 'r') as f:\n",
    "            data[run][tag] = json.loads(f.read())"
   ]
  },
  {
   "cell_type": "code",
   "execution_count": 5,
   "metadata": {},
   "outputs": [],
   "source": [
    "def get_step(run, tag):\n",
    "    return [step for [time,step,value] in data[run][tag]]\n",
    "def get_time(run, tag):\n",
    "    return [time for [time,step,value] in data[run][tag]]\n",
    "def get_value(run, tag):\n",
    "    return [value for [time,step,value] in data[run][tag]]\n",
    "\n",
    "\n"
   ]
  },
  {
   "cell_type": "code",
   "execution_count": null,
   "metadata": {},
   "outputs": [],
   "source": [
    "# eval by tags\n",
    "by_tags = {}\n",
    "for tag in tags:\n",
    "    df = pd.DataFrame()\n",
    "    for run in runs:\n",
    "        tmp = \n",
    "    "
   ]
  }
 ],
 "metadata": {
  "kernelspec": {
   "display_name": "Python 3",
   "language": "python",
   "name": "python3"
  },
  "language_info": {
   "codemirror_mode": {
    "name": "ipython",
    "version": 3
   },
   "file_extension": ".py",
   "mimetype": "text/x-python",
   "name": "python",
   "nbconvert_exporter": "python",
   "pygments_lexer": "ipython3",
   "version": "3.8.0"
  }
 },
 "nbformat": 4,
 "nbformat_minor": 2
}
